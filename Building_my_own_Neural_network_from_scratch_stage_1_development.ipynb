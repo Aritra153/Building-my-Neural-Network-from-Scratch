{
  "nbformat": 4,
  "nbformat_minor": 0,
  "metadata": {
    "colab": {
      "provenance": [],
      "authorship_tag": "ABX9TyMkB4++WC8nSUdMdy0eB+Cn",
      "include_colab_link": true
    },
    "kernelspec": {
      "name": "python3",
      "display_name": "Python 3"
    },
    "language_info": {
      "name": "python"
    }
  },
  "cells": [
    {
      "cell_type": "markdown",
      "metadata": {
        "id": "view-in-github",
        "colab_type": "text"
      },
      "source": [
        "<a href=\"https://colab.research.google.com/github/Aritra153/Building-my-Neural-Network-from-Scratch/blob/main/Building_my_own_Neural_network_from_scratch_stage_1_development.ipynb\" target=\"_parent\"><img src=\"https://colab.research.google.com/assets/colab-badge.svg\" alt=\"Open In Colab\"/></a>"
      ]
    },
    {
      "cell_type": "code",
      "execution_count": 1,
      "metadata": {
        "id": "kc4HPk1Vh6Vv"
      },
      "outputs": [],
      "source": [
        "import numpy as np"
      ]
    },
    {
      "cell_type": "markdown",
      "source": [
        "I have defined a function for initializing weights and biases"
      ],
      "metadata": {
        "id": "a2GMWLgvXzrJ"
      }
    },
    {
      "cell_type": "code",
      "source": [
        "def init_weights(input_arr,Layer_dict,n_layers):\n",
        "  # input_arr : A 2-D array of shape(factors,no.of training examples)\n",
        "  # m = no. of training examples, factors = no. of input factors(in each training example)\n",
        "  factors=input_arr.shape[0]\n",
        "  weights_dict={}\n",
        "  bias_dict={}\n",
        "  weights_dict[\"W\"+str(1)]=absol(np.random.randn(Layer_dict['L1'],factors)*0.01)\n",
        "  bias_dict[\"b\"+str(1)]=np.zeros((Layer_dict['L1'],1))\n",
        "  for i in range(2,(n_layers+1)):\n",
        "    weights_dict[\"W\"+str(i)]=absol(np.random.randn(Layer_dict[\"L\"+str(i)],Layer_dict[\"L\"+str(i-1)] ) * 0.01)\n",
        "    bias_dict[\"b\"+str(i)]=np.zeros((Layer_dict[\"L\"+str(i)],1))\n",
        "  weights_dict[\"W\"+str(n_layers+1)]=absol(np.random.randn(1,Layer_dict[\"L\"+str(n_layers)])*0.01)\n",
        "  bias_dict[\"b\"+str(n_layers+1)]=np.zeros((1,1))\n",
        "\n",
        "  return weights_dict,bias_dict\n",
        "\n"
      ],
      "metadata": {
        "id": "-UYnE3ARh_KP"
      },
      "execution_count": 2,
      "outputs": []
    },
    {
      "cell_type": "code",
      "source": [
        "in_ar=np.random.randn(5,1)   #Testing cell\n",
        "Layer_dict={\"L1\":5,\"L2\":4,\"L3\":4,\"L4\":3}\n",
        "wgts,bia=init_weights(in_ar,Layer_dict,4)"
      ],
      "metadata": {
        "id": "-76GxUdKCoHt"
      },
      "execution_count": 8,
      "outputs": []
    },
    {
      "cell_type": "code",
      "source": [
        "wgts[\"W2\"]  #Testing cell"
      ],
      "metadata": {
        "id": "ZrUmP1FhDX2h",
        "colab": {
          "base_uri": "https://localhost:8080/"
        },
        "outputId": "3ceacaa2-1449-43e0-eeb4-56371e2de0bf"
      },
      "execution_count": 9,
      "outputs": [
        {
          "output_type": "execute_result",
          "data": {
            "text/plain": [
              "array([[0.01221876, 0.01003865, 0.00149121, 0.01015369, 0.00747902],\n",
              "       [0.01656529, 0.00887747, 0.00275115, 0.00624573, 0.0026134 ],\n",
              "       [0.0098266 , 0.0158884 , 0.01005424, 0.00462305, 0.0010351 ],\n",
              "       [0.00884502, 0.00845244, 0.0100911 , 0.01437613, 0.00043633]])"
            ]
          },
          "metadata": {},
          "execution_count": 9
        }
      ]
    },
    {
      "cell_type": "code",
      "source": [
        "bia[\"b2\"]  #Testing cell"
      ],
      "metadata": {
        "colab": {
          "base_uri": "https://localhost:8080/"
        },
        "id": "eP1cAYJgeaDn",
        "outputId": "ecf04f75-2a33-4b2b-d7a4-4d7ead7dfb90"
      },
      "execution_count": 10,
      "outputs": [
        {
          "output_type": "execute_result",
          "data": {
            "text/plain": [
              "array([[0.],\n",
              "       [0.],\n",
              "       [0.],\n",
              "       [0.]])"
            ]
          },
          "metadata": {},
          "execution_count": 10
        }
      ]
    },
    {
      "cell_type": "markdown",
      "source": [
        "In the cell below, I have defined a function for forward propagation."
      ],
      "metadata": {
        "id": "xuCt9PKkXFA3"
      }
    },
    {
      "cell_type": "code",
      "source": [
        "def forward_prop(input_arr,weights_dict,bias_dict,N_layers):  # N_layers : no.of layers, here while considering, we also count the last(or output layer/neuron) as well\n",
        "  neural={}\n",
        "  neural_activated={}\n",
        "  neural[\"Z\"+str(1)]=np.dot(weights_dict[\"W1\"],input_arr)+bias_dict[\"b1\"]\n",
        "  neural_activated[\"A\"+str(1)]=Relu_func(neural[\"Z\"+str(1)])\n",
        "  for i in range(2,N_layers):\n",
        "    neural[\"Z\"+str(i)]=np.dot(weights_dict[\"W\"+str(i)],neural_activated[\"A\"+str(i-1)])+bias_dict[\"b\"+str(i)]\n",
        "    neural_activated[\"A\"+str(i)]=Relu_func(neural[\"Z\"+str(i)])\n",
        "  neural[\"Z\"+str(N_layers)]=np.dot(weights_dict[\"W\"+str(N_layers)],neural_activated[\"A\"+str(N_layers-1)])+bias_dict[\"b\"+str(N_layers)]\n",
        "  neural_activated[\"A\"+str(N_layers)]=Sigmoid_func(neural[\"Z\"+str(N_layers)])\n",
        "\n",
        "  return neural,neural_activated\n"
      ],
      "metadata": {
        "id": "btfD3t5fegEI"
      },
      "execution_count": 11,
      "outputs": []
    },
    {
      "cell_type": "code",
      "source": [
        "def rel(x):\n",
        "  if(x>=0):\n",
        "    return x\n",
        "  else:\n",
        "    return 0\n",
        "\n",
        "def Relu_func(arr):\n",
        "  row=arr.shape[0]\n",
        "  col=arr.shape[1]\n",
        "  arr1=np.zeros((row,col))\n",
        "  for i in range(row):\n",
        "    for j in range(col):\n",
        "      arr1[i][j]=arr[i][j]\n",
        "  for i in range(row):\n",
        "    for j in range(col):\n",
        "      arr1[i][j]=rel(arr1[i][j])\n",
        "  return arr1"
      ],
      "metadata": {
        "id": "-70GetAlv7iZ"
      },
      "execution_count": 12,
      "outputs": []
    },
    {
      "cell_type": "code",
      "source": [
        "import math\n",
        "def sigm(y):\n",
        "  a=-y\n",
        "  b=math.exp(a)\n",
        "  c=1+b\n",
        "  d=1/c\n",
        "  return d\n",
        "\n",
        "def Sigmoid_func(arr):\n",
        "\n",
        "  row=arr.shape[0]\n",
        "  col=arr.shape[1]\n",
        "  arr1=np.zeros((row,col))\n",
        "  for i in range(row):\n",
        "    for j in range(col):\n",
        "      arr1[i][j]=arr[i][j]\n",
        "  for i in range(row):\n",
        "    for j in range(col):\n",
        "      arr1[i][j]=sigm(arr1[i][j])\n",
        "\n",
        "  return arr1"
      ],
      "metadata": {
        "id": "Hq544GsqwZsA"
      },
      "execution_count": 13,
      "outputs": []
    },
    {
      "cell_type": "code",
      "source": [
        "b=np.random.randn(3,4)             #Testing cell\n",
        "Layer_dict={\"L1\":5,\"L2\":4,\"L3\":4,\"L4\":3}\n",
        "wgts,bis=init_weights(b,Layer_dict,4)\n",
        "neu,acti_neu=forward_prop(b,wgts,bis,5)\n",
        "neu[\"Z5\"]=neu[\"Z5\"]*math.pow(10,10)\n",
        "neu[\"Z5\"]\n"
      ],
      "metadata": {
        "id": "C8MNJgie0vp6",
        "colab": {
          "base_uri": "https://localhost:8080/"
        },
        "outputId": "72651ee3-40a5-43b2-8818-16bd5a372b4e"
      },
      "execution_count": 14,
      "outputs": [
        {
          "output_type": "execute_result",
          "data": {
            "text/plain": [
              "array([[148.78478262,   0.        ,  61.35912271,   1.53036063]])"
            ]
          },
          "metadata": {},
          "execution_count": 14
        }
      ]
    },
    {
      "cell_type": "markdown",
      "source": [
        "I have defined a function for calculating the cost function value"
      ],
      "metadata": {
        "id": "FhrbkQm4W9yB"
      }
    },
    {
      "cell_type": "code",
      "source": [
        "def cost_func(actual_results,predicted_results):\n",
        "  m=actual_results.shape[1]\n",
        "  sum=0\n",
        "  for i in range(m):\n",
        "    sum=sum-(((actual_results[0][i])*math.log(predicted_results[0][i]))+((1-actual_results[0][i])*math.log(1-predicted_results[0][i])))\n",
        "  cost=sum/m\n",
        "  return cost"
      ],
      "metadata": {
        "id": "gPYOwXboQ_E8"
      },
      "execution_count": 15,
      "outputs": []
    },
    {
      "cell_type": "code",
      "source": [
        "def absol(arr):\n",
        "  r=arr.shape[0]\n",
        "  c=arr.shape[1]\n",
        "  arr1=np.zeros((r,c))\n",
        "  for i in range(r):\n",
        "    for j in range(c):\n",
        "      arr1[i][j]=arr[i][j]\n",
        "  for i in range(r):\n",
        "    for j in range(c):\n",
        "      arr1[i][j]=abs(arr1[i][j])\n",
        "  return arr1"
      ],
      "metadata": {
        "id": "QdfU4G1aYOgV"
      },
      "execution_count": 16,
      "outputs": []
    },
    {
      "cell_type": "markdown",
      "source": [
        "I have defined a function for Back-propagation."
      ],
      "metadata": {
        "id": "MKfNTfFOW08p"
      }
    },
    {
      "cell_type": "code",
      "source": [
        "def back_prop(weights_dict,bias_dict,actual_results,n_lays,input_data):  # n_lays = no.of layers(the last layer(output layer)/neuron is included)\n",
        "  m=input_data.shape[1]\n",
        "  neural,acti_neural=forward_prop(input_data,weights_dict,bias_dict,n_lays) #weights_dict & bias_dict here can be got by calling the function init_weights(...)\n",
        "  dZ_dict={}\n",
        "  dW_dict={}\n",
        "  db_dict={}\n",
        "  dZ_dict[\"dZ\"+str(n_lays)]=acti_neural[\"A\"+str(n_lays)]-actual_results\n",
        "  dW_dict[\"dW\"+str(n_lays)]=(np.dot(dZ_dict[\"dZ\"+str(n_lays)],(acti_neural[\"A\"+str(n_lays-1)].transpose())))/m\n",
        "  db_dict[\"db\"+str(n_lays)]=(1/m)*np.sum(dZ_dict[\"dZ\"+str(n_lays)],axis=1,keepdims=True)\n",
        "  for i in range((n_lays-1),1,-1):\n",
        "    dZ_dict[\"dZ\"+str(i)]=np.multiply(np.dot((weights_dict[\"W\"+str(i+1)].transpose()),dZ_dict[\"dZ\"+str(i+1)]),derivat_sigm(neural[\"Z\"+str(i)]))\n",
        "    dW_dict[\"dW\"+str(i)]=(np.dot(dZ_dict[\"dZ\"+str(i)],(acti_neural[\"A\"+str(i-1)].transpose())))/m\n",
        "    db_dict[\"db\"+str(i)]=(1/m)*np.sum(dZ_dict[\"dZ\"+str(i)],axis=1,keepdims=True)\n",
        "\n",
        "  dZ_dict[\"dZ\"+str(1)]=np.multiply(np.dot((weights_dict[\"W\"+str(2)].transpose()),dZ_dict[\"dZ\"+str(2)]),derivat_sigm(neural[\"Z\"+str(1)]))\n",
        "  dW_dict[\"dW\"+str(1)]=(np.dot(dZ_dict[\"dZ\"+str(1)],(input_data.transpose())))/m\n",
        "  db_dict[\"db\"+str(1)]=(1/m)*np.sum(dZ_dict[\"dZ\"+str(1)],axis=1,keepdims=True)\n",
        "\n",
        "  return dW_dict,db_dict\n"
      ],
      "metadata": {
        "id": "cI5kDg6xYTnc"
      },
      "execution_count": 17,
      "outputs": []
    },
    {
      "cell_type": "markdown",
      "source": [
        "In the below cell I have created a user-defined function for calculating the derivative of a **ReLU** activation function for a matrix(or 2D array)"
      ],
      "metadata": {
        "id": "_bLW0ImnyZoh"
      }
    },
    {
      "cell_type": "code",
      "source": [
        "def deri_sig(a):\n",
        "  if(a>0):\n",
        "    return 1\n",
        "  else:\n",
        "    return 0\n",
        "\n",
        "def derivat_sigm(arr):\n",
        "  r=arr.shape[0]\n",
        "  c=arr.shape[1]\n",
        "  arr1=np.zeros((r,c))\n",
        "  for i in range(r):\n",
        "    for j in range(c):\n",
        "      arr1[i][j]=deri_sig(arr[i][j])\n",
        "  return arr1"
      ],
      "metadata": {
        "id": "TubIboB0a68U"
      },
      "execution_count": 18,
      "outputs": []
    },
    {
      "cell_type": "code",
      "source": [
        "def update_param(weights_dict,bias_dict,n_layers,alpha,dW_dict,db_dict):      #alpha:learning rate, n_layers:Includes all the layers including the last neuron\n",
        "  for i in range(1,(n_layers+1)):\n",
        "    weights_dict[\"W\"+str(i)]=weights_dict[\"W\"+str(i)]-(alpha*dW_dict[\"dW\"+str(i)])\n",
        "    bias_dict[\"b\"+str(i)]=bias_dict[\"b\"+str(i)]-(alpha*db_dict[\"db\"+str(i)])"
      ],
      "metadata": {
        "id": "MHiOzNqVob0c"
      },
      "execution_count": 19,
      "outputs": []
    },
    {
      "cell_type": "code",
      "source": [
        "def run_epoch(input_data,n_layers,actual_results,weights_d,bias_d,alpha):\n",
        "  '''\n",
        "  input_data:The input array of training examples\n",
        "  Layer_config:dictionary containing the no.of neurons in each layer\n",
        "  n_layers:no.of layers\n",
        "  '''\n",
        "  neur,activated_neur=forward_prop(input_data,weights_d,bias_d,n_layers)\n",
        "  cost_value=cost_func(actual_results,activated_neur[\"A\"+str(n_layers)])\n",
        "  dW_vals,db_vals=back_prop(weights_d,bias_d,actual_results,n_layers,input_data)\n",
        "  update_param(weights_d,bias_d,n_layers,alpha,dW_vals,db_vals)\n",
        "  return cost_value"
      ],
      "metadata": {
        "id": "f-_Tm1dhpeDu"
      },
      "execution_count": 20,
      "outputs": []
    },
    {
      "cell_type": "markdown",
      "source": [
        "In the few cells below, I have taken the dataset 'heart Disease CSV file.csv' as my \"heart health monitoring\" dataset. I did some pre-processing and then arranged it in a form so that it could be directly fed into my neural network for training, validation and testing."
      ],
      "metadata": {
        "id": "5VBwBNF6WD7x"
      }
    },
    {
      "cell_type": "code",
      "source": [
        "import pandas as pd"
      ],
      "metadata": {
        "id": "a0XJkyWqrHrU"
      },
      "execution_count": 21,
      "outputs": []
    },
    {
      "cell_type": "code",
      "source": [
        "heart_dataset=pd.read_csv(\"heart Disease CSV file.csv\")"
      ],
      "metadata": {
        "id": "g5p7bmVIQ6HY"
      },
      "execution_count": 22,
      "outputs": []
    },
    {
      "cell_type": "code",
      "source": [
        "male_lst=[]\n",
        "age_lst=[]\n",
        "education_lst=[]\n",
        "cigsPerDay_lst=[]\n",
        "totChol_lst=[]\n",
        "sysBP_lst=[]\n",
        "diaBP_lst=[]\n",
        "BMI_lst=[]\n",
        "heartRate_lst=[]\n",
        "glucose_lst=[]\n",
        "TenYearCHD_lst=[]"
      ],
      "metadata": {
        "id": "RqLIpY-6mj0S"
      },
      "execution_count": 23,
      "outputs": []
    },
    {
      "cell_type": "code",
      "source": [
        "heart_dataset[\"heartRate\"][3] #Testing Cell"
      ],
      "metadata": {
        "colab": {
          "base_uri": "https://localhost:8080/"
        },
        "id": "NTq6QfyCq-eh",
        "outputId": "050ce7f4-f281-44d2-b42c-e3d198850061"
      },
      "execution_count": 24,
      "outputs": [
        {
          "output_type": "execute_result",
          "data": {
            "text/plain": [
              "65"
            ]
          },
          "metadata": {},
          "execution_count": 24
        }
      ]
    },
    {
      "cell_type": "code",
      "source": [
        "a=len(heart_dataset[\"heartRate\"])    #We are using 11 features(or columns)from the dataset\n",
        "for i in range(a):\n",
        "  male_lst.append(heart_dataset[\"male\"][i])\n",
        "  age_lst.append(heart_dataset[\"age\"][i])\n",
        "  education_lst.append(heart_dataset[\"education\"][i])\n",
        "  cigsPerDay_lst.append(heart_dataset[\"cigsPerDay\"][i])\n",
        "  totChol_lst.append(heart_dataset[\"totChol\"][i])\n",
        "  sysBP_lst.append(heart_dataset[\"sysBP\"][i])\n",
        "  diaBP_lst.append(heart_dataset[\"diaBP\"][i])\n",
        "  BMI_lst.append(heart_dataset[\"BMI\"][i])\n",
        "  heartRate_lst.append(heart_dataset[\"heartRate\"][i])\n",
        "  glucose_lst.append(heart_dataset[\"glucose\"][i])\n",
        "  TenYearCHD_lst.append(heart_dataset[\"TenYearCHD\"][i])\n"
      ],
      "metadata": {
        "id": "NWyXbDqXrK7_"
      },
      "execution_count": 25,
      "outputs": []
    },
    {
      "cell_type": "markdown",
      "source": [
        " Let the Training,Cross-validation and Testing data be 75%, 19% and 6% respectively of the total no.of datapoints in the dataset\n",
        " No.of training examples=(0.75*4238)=3200 , No.of Cross-validation examples=800 , No.of Testing examples=238.\n",
        "Below I have created a 2-D array X_input_training(of dimensions no.of features(10) x 3200) for training the model.  "
      ],
      "metadata": {
        "id": "MUeqqwuBrsMS"
      }
    },
    {
      "cell_type": "code",
      "source": [
        "t=3200\n",
        "X_input_training=np.zeros((10,t))\n",
        "for i in range(t):\n",
        "  X_input_training[0][i]=male_lst[i]\n",
        "  X_input_training[1][i]=age_lst[i]\n",
        "  X_input_training[2][i]=education_lst[i]\n",
        "  X_input_training[3][i]=cigsPerDay_lst[i]\n",
        "  X_input_training[4][i]=totChol_lst[i]\n",
        "  X_input_training[5][i]=sysBP_lst[i]\n",
        "  X_input_training[6][i]=diaBP_lst[i]\n",
        "  X_input_training[7][i]=BMI_lst[i]\n",
        "  X_input_training[8][i]=heartRate_lst[i]\n",
        "  X_input_training[9][i]=glucose_lst[i]\n"
      ],
      "metadata": {
        "id": "tu4EzrNLxKh4"
      },
      "execution_count": 26,
      "outputs": []
    },
    {
      "cell_type": "code",
      "source": [
        "v=800 #No.of datapoints in the validation set\n",
        "X_input_validation=np.zeros((10,v))\n",
        "for i in range(0,v):\n",
        "  X_input_validation[0][i]=male_lst[i+t]\n",
        "  X_input_validation[1][i]=age_lst[i+t]\n",
        "  X_input_validation[2][i]=education_lst[i+t]\n",
        "  X_input_validation[3][i]=cigsPerDay_lst[i+t]\n",
        "  X_input_validation[4][i]=totChol_lst[i+t]\n",
        "  X_input_validation[5][i]=sysBP_lst[i+t]\n",
        "  X_input_validation[6][i]=diaBP_lst[i+t]\n",
        "  X_input_validation[7][i]=BMI_lst[i+t]\n",
        "  X_input_validation[8][i]=heartRate_lst[i+t]\n",
        "  X_input_validation[9][i]=glucose_lst[i+t]\n"
      ],
      "metadata": {
        "id": "JjGKk5-PMTtE"
      },
      "execution_count": 27,
      "outputs": []
    },
    {
      "cell_type": "code",
      "source": [
        "Y_training=np.zeros((1,t))\n",
        "for j in range(t):\n",
        "  Y_training[0][j]=TenYearCHD_lst[j]"
      ],
      "metadata": {
        "id": "exEEKGcMeqCg"
      },
      "execution_count": 28,
      "outputs": []
    },
    {
      "cell_type": "code",
      "source": [
        "Y_validation=np.zeros((1,v))\n",
        "for j in range(0,v):\n",
        "  Y_validation[0][j]=TenYearCHD_lst[j+t]"
      ],
      "metadata": {
        "id": "evUOZW09SKLu"
      },
      "execution_count": 29,
      "outputs": []
    },
    {
      "cell_type": "markdown",
      "source": [
        "In the cell below I have defined a function for rounding off an array according to my own intuition. If a number in an array is greater than 0.49, I have rounded it off to 1. Else, the no.is rounded off to 0. In this way I have set up a system for the output of a binary classification problem"
      ],
      "metadata": {
        "id": "pZZGcgrnTa97"
      }
    },
    {
      "cell_type": "code",
      "source": [
        "def round_off(x):\n",
        "  if(x>=0.49):\n",
        "    return 1\n",
        "  else:\n",
        "    return 0\n",
        "\n",
        "def round_off_arr(arr):\n",
        "\n",
        "  r=arr.shape[0]\n",
        "  c=arr.shape[1]\n",
        "  arr1=np.zeros((r,c))\n",
        "  for i in range(r):\n",
        "    for j in range(c):\n",
        "      arr1[i][j]=arr[i][j]\n",
        "  for i in range(r):\n",
        "    for j in range(c):\n",
        "      arr1[i][j]=round_off(arr1[i][j])\n",
        "\n",
        "  return arr1\n",
        "\n",
        "def calc_accuracy(predicted,actual):\n",
        "  predicted_modified=round_off_arr(predicted)\n",
        "  r=predicted.shape[0]\n",
        "  c=predicted.shape[1]\n",
        "  sum_1=0\n",
        "  sum_0=0\n",
        "  #x=len(predicted)\n",
        "  for i in range(r):\n",
        "    for j in range(c):\n",
        "      if((predicted_modified[i][j]==1)and(actual[i][j]==1)):\n",
        "        sum_1=sum_1+1\n",
        "      elif((predicted_modified[i][j]==0)and(actual[i][j]==0)):\n",
        "        sum_0=sum_0+1\n",
        "  accuracy=(sum_0+sum_1)/c\n",
        "\n",
        "  return accuracy"
      ],
      "metadata": {
        "id": "MIyKDolvezqg"
      },
      "execution_count": 31,
      "outputs": []
    },
    {
      "cell_type": "markdown",
      "source": [
        "In the cells below, I have defined the no.of layers in my Neural network and the no.of layers in each neuron; I have also specified the laerning rate."
      ],
      "metadata": {
        "id": "mpglq2M_UrJ0"
      }
    },
    {
      "cell_type": "code",
      "source": [
        "layer_dict={\"L1\":5,\"L2\":4,\"L3\":4,\"L4\":3,\"L5\":3,\"L6\":4} # Information(or dictionary) showing the no.of layers and no.of neurons in each layer\n",
        "n_layers=6\n",
        "weights_dct,bias_dct=init_weights(X_input_training,layer_dict,n_layers)\n",
        "\n",
        "alpha=0.1 #learning rate"
      ],
      "metadata": {
        "id": "X42hBRYhfFFJ"
      },
      "execution_count": 37,
      "outputs": []
    },
    {
      "cell_type": "code",
      "source": [
        "cost_vals=[]\n",
        "for i in range(501):\n",
        "  x=run_epoch(X_input_training,(n_layers+1),Y_training,weights_dct,bias_dct,alpha)\n",
        "  cost_vals.append(x)\n",
        "  if(i%10==0):\n",
        "\n",
        "    print(\"After\",i,\"epochs, cost function value :\",cost_vals[i])"
      ],
      "metadata": {
        "colab": {
          "base_uri": "https://localhost:8080/"
        },
        "id": "9Qyb9qqKi6IK",
        "outputId": "98eaf508-bc99-488b-9ea0-a4db56e87ecf"
      },
      "execution_count": 38,
      "outputs": [
        {
          "output_type": "stream",
          "name": "stdout",
          "text": [
            "After 0 epochs, cost function value : 0.6931471824712147\n",
            "After 10 epochs, cost function value : 0.5971069880099236\n",
            "After 20 epochs, cost function value : 0.5385294253094172\n",
            "After 30 epochs, cost function value : 0.5019374734823032\n",
            "After 40 epochs, cost function value : 0.4784438157732575\n",
            "After 50 epochs, cost function value : 0.46296199753217737\n",
            "After 60 epochs, cost function value : 0.4525225140474034\n",
            "After 70 epochs, cost function value : 0.44534304019160637\n",
            "After 80 epochs, cost function value : 0.44032251778748316\n",
            "After 90 epochs, cost function value : 0.4367620070977904\n",
            "After 100 epochs, cost function value : 0.43420679854526467\n",
            "After 110 epochs, cost function value : 0.43235457345581646\n",
            "After 120 epochs, cost function value : 0.4310004707029011\n",
            "After 130 epochs, cost function value : 0.4300033489574771\n",
            "After 140 epochs, cost function value : 0.42926455575283795\n",
            "After 150 epochs, cost function value : 0.4287142680497685\n",
            "After 160 epochs, cost function value : 0.4283025269438497\n",
            "After 170 epochs, cost function value : 0.42799324695053953\n",
            "After 180 epochs, cost function value : 0.42776014819966046\n",
            "After 190 epochs, cost function value : 0.42758395443860125\n",
            "After 200 epochs, cost function value : 0.4274504381046485\n",
            "After 210 epochs, cost function value : 0.42734904074957697\n",
            "After 220 epochs, cost function value : 0.4272718895495521\n",
            "After 230 epochs, cost function value : 0.42721308982043615\n",
            "After 240 epochs, cost function value : 0.4271682119785012\n",
            "After 250 epochs, cost function value : 0.42713391684259716\n",
            "After 260 epochs, cost function value : 0.42710768023793233\n",
            "After 270 epochs, cost function value : 0.42708758944553976\n",
            "After 280 epochs, cost function value : 0.42707219200615837\n",
            "After 290 epochs, cost function value : 0.4270603829165195\n",
            "After 300 epochs, cost function value : 0.42705132014251257\n",
            "After 310 epochs, cost function value : 0.42704436112180133\n",
            "After 320 epochs, cost function value : 0.42703901489743223\n",
            "After 330 epochs, cost function value : 0.42703490593702176\n",
            "After 340 epochs, cost function value : 0.42703174672018757\n",
            "After 350 epochs, cost function value : 0.4270293169259318\n",
            "After 360 epochs, cost function value : 0.42702744760219086\n",
            "After 370 epochs, cost function value : 0.4270260091047561\n",
            "After 380 epochs, cost function value : 0.4270249018954796\n",
            "After 390 epochs, cost function value : 0.42702404951277495\n",
            "After 400 epochs, cost function value : 0.4270233931961986\n",
            "After 410 epochs, cost function value : 0.427022887770886\n",
            "After 420 epochs, cost function value : 0.4270224984950245\n",
            "After 430 epochs, cost function value : 0.4270221986424689\n",
            "After 440 epochs, cost function value : 0.427021967647771\n",
            "After 450 epochs, cost function value : 0.42702178968284277\n",
            "After 460 epochs, cost function value : 0.42702165256283164\n",
            "After 470 epochs, cost function value : 0.42702154690620087\n",
            "After 480 epochs, cost function value : 0.42702146548855746\n",
            "After 490 epochs, cost function value : 0.42702140274586164\n",
            "After 500 epochs, cost function value : 0.42702135439240474\n"
          ]
        }
      ]
    },
    {
      "cell_type": "code",
      "source": [
        "import matplotlib.pyplot as plt"
      ],
      "metadata": {
        "id": "LkyjGdv0kzw0"
      },
      "execution_count": 40,
      "outputs": []
    },
    {
      "cell_type": "markdown",
      "source": [
        "The Plot below shows the variation of our **Cost function(or loss function)** value with **no.of iterations** while the training of my model was in progress, and learning rate(α) was set to 0.1"
      ],
      "metadata": {
        "id": "iMH8PqqEZ00v"
      }
    },
    {
      "cell_type": "code",
      "source": [
        "#Learning_rate=0.1 , No.of iterations=500\n",
        "x=len(cost_vals)\n",
        "idx_lst=[]\n",
        "for i in range(x):\n",
        "  idx_lst.append(i+1)\n",
        "\n",
        "plt.plot(idx_lst,cost_vals)\n",
        "plt.xlabel(\"No.of Iterations\")\n",
        "plt.ylabel(\"Cost function value\")"
      ],
      "metadata": {
        "colab": {
          "base_uri": "https://localhost:8080/",
          "height": 466
        },
        "id": "OFKspkuAkUEv",
        "outputId": "2270e4b4-190a-4576-9b00-3a721c9a9484"
      },
      "execution_count": 41,
      "outputs": [
        {
          "output_type": "execute_result",
          "data": {
            "text/plain": [
              "Text(0, 0.5, 'Cost function value')"
            ]
          },
          "metadata": {},
          "execution_count": 41
        },
        {
          "output_type": "display_data",
          "data": {
            "text/plain": [
              "<Figure size 640x480 with 1 Axes>"
            ],
            "image/png": "[encoded data removed]"
          },
          "metadata": {}
        }
      ]
    },
    {
      "cell_type": "code",
      "source": [
        "pre_validate_outputs,validate_outputs=forward_prop(X_input_validation,weights_dct,bias_dct,(n_layers+1))\n",
        "validation_accuracy=calc_accuracy(validate_outputs['A'+str(n_layers+1)],Y_validation)\n",
        "\n",
        "print(validation_accuracy)"
      ],
      "metadata": {
        "id": "CcgVsFpek4vX",
        "colab": {
          "base_uri": "https://localhost:8080/"
        },
        "outputId": "0c5a5a9a-762c-44ca-a4fb-70c27b411ab5"
      },
      "execution_count": 43,
      "outputs": [
        {
          "output_type": "stream",
          "name": "stdout",
          "text": [
            "0.85375\n"
          ]
        }
      ]
    },
    {
      "cell_type": "markdown",
      "source": [
        "Calculating the accuracy of the Training set"
      ],
      "metadata": {
        "id": "lOkLy6PoXmKN"
      }
    },
    {
      "cell_type": "code",
      "source": [
        "pre_training_outputs,training_outputs=forward_prop(X_input_training,weights_dct,bias_dct,(n_layers+1))\n",
        "training_accuracy=calc_accuracy(training_outputs['A'+str(n_layers+1)],Y_training)\n",
        "\n",
        "print(training_accuracy)"
      ],
      "metadata": {
        "id": "JvubUfipT50X",
        "colab": {
          "base_uri": "https://localhost:8080/"
        },
        "outputId": "a5ef47fd-c6af-4905-c8ae-6f2157d9c3ec"
      },
      "execution_count": 44,
      "outputs": [
        {
          "output_type": "stream",
          "name": "stdout",
          "text": [
            "0.8475\n"
          ]
        }
      ]
    },
    {
      "cell_type": "markdown",
      "source": [
        "Hence my Trained model gives an accuracy of 84.75% on the Training dataset and an accuracy of 85.375% on the Cross-Validation dataset"
      ],
      "metadata": {
        "id": "WBwypeI6ZO9b"
      }
    },
    {
      "cell_type": "markdown",
      "source": [
        "Now I will change the learning rate"
      ],
      "metadata": {
        "id": "TjRJ5m_tapaR"
      }
    },
    {
      "cell_type": "code",
      "source": [
        "#LEARNING RATE:0.01, no.of iterations while training=1000\n",
        "x=len(cost_vals)\n",
        "idx_lst=[]\n",
        "for i in range(x):\n",
        "  idx_lst.append(i+1)\n",
        "\n",
        "plt.plot(idx_lst,cost_vals)\n",
        "plt.xlabel(\"No.of Iterations\")\n",
        "plt.ylabel(\"Cost function value\")"
      ],
      "metadata": {
        "colab": {
          "base_uri": "https://localhost:8080/",
          "height": 466
        },
        "outputId": "c0dba997-3b35-443b-d80d-3ccb1d66e799",
        "id": "YIyymxHddJvQ"
      },
      "execution_count": null,
      "outputs": [
        {
          "output_type": "execute_result",
          "data": {
            "text/plain": [
              "Text(0, 0.5, 'Cost function value')"
            ]
          },
          "metadata": {},
          "execution_count": 94
        },
        {
          "output_type": "display_data",
          "data": {
            "text/plain": [
              "<Figure size 640x480 with 1 Axes>"
            ],
            "image/png": "[encoded data removed]"
          },
          "metadata": {}
        }
      ]
    },
    {
      "cell_type": "code",
      "source": [
        "#No.of test examples=238\n",
        "tes=238\n",
        "X_input_test=np.zeros((10,tes))\n",
        "for i in range(0,tes):\n",
        "  X_input_test[0][i]=male_lst[i+t+v]\n",
        "  X_input_test[1][i]=age_lst[i+t+v]\n",
        "  X_input_test[2][i]=education_lst[i+t+v]\n",
        "  X_input_test[3][i]=cigsPerDay_lst[i+t+v]\n",
        "  X_input_test[4][i]=totChol_lst[i+t+v]\n",
        "  X_input_test[5][i]=sysBP_lst[i+t+v]\n",
        "  X_input_test[6][i]=diaBP_lst[i+t+v]\n",
        "  X_input_test[7][i]=BMI_lst[i+t+v]\n",
        "  X_input_test[8][i]=heartRate_lst[i+t+v]\n",
        "  X_input_test[9][i]=glucose_lst[i+t+v]\n"
      ],
      "metadata": {
        "id": "ds3qJ59rdPpR"
      },
      "execution_count": 45,
      "outputs": []
    },
    {
      "cell_type": "code",
      "source": [
        "Y_testing=np.zeros((1,tes))\n",
        "for j in range(0,tes):\n",
        "  Y_testing[0][j]=TenYearCHD_lst[j+t+v]\n"
      ],
      "metadata": {
        "id": "Y09Hlp4Ch1Hp"
      },
      "execution_count": 46,
      "outputs": []
    },
    {
      "cell_type": "code",
      "source": [
        "pre_test_outputs,test_outputs=forward_prop(X_input_test,weights_dct,bias_dct,(n_layers+1))\n",
        "test_accuracy=calc_accuracy(test_outputs['A'+str(n_layers+1)],Y_testing)\n",
        "print(test_accuracy)\n"
      ],
      "metadata": {
        "colab": {
          "base_uri": "https://localhost:8080/"
        },
        "id": "iH5YTYYRjlqj",
        "outputId": "20df7dab-bc5c-4ec8-c4a6-f09d37430eb7"
      },
      "execution_count": 48,
      "outputs": [
        {
          "output_type": "stream",
          "name": "stdout",
          "text": [
            "0.8361344537815126\n"
          ]
        }
      ]
    },
    {
      "cell_type": "code",
      "source": [],
      "metadata": {
        "id": "4PVvVQlQpHGz"
      },
      "execution_count": null,
      "outputs": []
    },
    {
      "cell_type": "markdown",
      "source": [
        "Now, I am going to plot **\"Loss value\"** Vs **\"No.of ierations\"** curves by varying the learning rate(α),for same no.of iterations.Finally I am going to put all these curves into a single plot. I have taken values of α to be 0.1(the actual learning rate I have used to train my model),α=0.01(low), α=0.9(high), α=20(very high). we can see that for high and very high α values, we do not get our desired plot(or results)."
      ],
      "metadata": {
        "id": "FTu8-8Q5pm1E"
      }
    },
    {
      "cell_type": "code",
      "source": [
        "layer_dict={\"L1\":5,\"L2\":4,\"L3\":4,\"L4\":3,\"L5\":3,\"L6\":4} # Information(or dictionary) showing the no.of layers and no.of neurons in each layer\n",
        "n_layers=6\n",
        "weights_dct,bias_dct=init_weights(X_input_training,layer_dict,n_layers)\n",
        "alpha=0.01 #learning rate"
      ],
      "metadata": {
        "id": "zLqjafLMplYQ"
      },
      "execution_count": 51,
      "outputs": []
    },
    {
      "cell_type": "code",
      "source": [
        "cost_vals_1=[]\n",
        "for i in range(501):\n",
        "\n",
        "  x=run_epoch(X_input_training,(n_layers+1),Y_training,weights_dct,bias_dct,alpha)\n",
        "  cost_vals_1.append(x)\n",
        "  if(i%10==0):\n",
        "    print(\"After\",i,\"epochs, cost function value :\",cost_vals_1[i])"
      ],
      "metadata": {
        "colab": {
          "base_uri": "https://localhost:8080/"
        },
        "outputId": "0f13481c-7c6e-432b-e79a-1207ef790f3c",
        "id": "uygIPw27sMaJ"
      },
      "execution_count": 52,
      "outputs": [
        {
          "output_type": "stream",
          "name": "stdout",
          "text": [
            "After 0 epochs, cost function value : 0.693147181179317\n",
            "After 10 epochs, cost function value : 0.6813540819626296\n",
            "After 20 epochs, cost function value : 0.670136658976968\n",
            "After 30 epochs, cost function value : 0.6594663628962067\n",
            "After 40 epochs, cost function value : 0.649315818367135\n",
            "After 50 epochs, cost function value : 0.6396588215820583\n",
            "After 60 epochs, cost function value : 0.6304703301179568\n",
            "After 70 epochs, cost function value : 0.6217264457704724\n",
            "After 80 epochs, cost function value : 0.6134043916034604\n",
            "After 90 epochs, cost function value : 0.6054824843168812\n",
            "After 100 epochs, cost function value : 0.5979401029105783\n",
            "After 110 epochs, cost function value : 0.5907576545078576\n",
            "After 120 epochs, cost function value : 0.5839165380919243\n",
            "After 130 epochs, cost function value : 0.5773991068060478\n",
            "After 140 epochs, cost function value : 0.5711886293767918\n",
            "After 150 epochs, cost function value : 0.5652692511325492\n",
            "After 160 epochs, cost function value : 0.5596259550142587\n",
            "After 170 epochs, cost function value : 0.5542445229081256\n",
            "After 180 epochs, cost function value : 0.549111497568405\n",
            "After 190 epochs, cost function value : 0.5442141453478205\n",
            "After 200 epochs, cost function value : 0.5395404199055281\n",
            "After 210 epochs, cost function value : 0.5350789270241892\n",
            "After 220 epochs, cost function value : 0.5308188906348912\n",
            "After 230 epochs, cost function value : 0.5267501201166751\n",
            "After 240 epochs, cost function value : 0.5228629789173036\n",
            "After 250 epochs, cost function value : 0.519148354519068\n",
            "After 260 epochs, cost function value : 0.5155976297566136\n",
            "After 270 epochs, cost function value : 0.5122026554815292\n",
            "After 280 epochs, cost function value : 0.5089557245561503\n",
            "After 290 epochs, cost function value : 0.5058495471502714\n",
            "After 300 epochs, cost function value : 0.5028772273080748\n",
            "After 310 epochs, cost function value : 0.5000322407465709\n",
            "After 320 epochs, cost function value : 0.4973084138430579\n",
            "After 330 epochs, cost function value : 0.49469990376704864\n",
            "After 340 epochs, cost function value : 0.4922011797092091\n",
            "After 350 epochs, cost function value : 0.48980700515975917\n",
            "After 360 epochs, cost function value : 0.48751242118782445\n",
            "After 370 epochs, cost function value : 0.48531273067360997\n",
            "After 380 epochs, cost function value : 0.4832034834460474\n",
            "After 390 epochs, cost function value : 0.4811804622798012\n",
            "After 400 epochs, cost function value : 0.47923966970513404\n",
            "After 410 epochs, cost function value : 0.47737731558799834\n",
            "After 420 epochs, cost function value : 0.47558980543733964\n",
            "After 430 epochs, cost function value : 0.4738737293988333\n",
            "After 440 epochs, cost function value : 0.47222585189658195\n",
            "After 450 epochs, cost function value : 0.47064310188487274\n",
            "After 460 epochs, cost function value : 0.46912256367487776\n",
            "After 470 epochs, cost function value : 0.467661468302931\n",
            "After 480 epochs, cost function value : 0.46625718540750577\n",
            "After 490 epochs, cost function value : 0.46490721558544756\n",
            "After 500 epochs, cost function value : 0.46360918319801003\n"
          ]
        }
      ]
    },
    {
      "cell_type": "code",
      "source": [
        "layer_dict={\"L1\":5,\"L2\":4,\"L3\":4,\"L4\":3,\"L5\":3,\"L6\":4} # Information(or dictionary) showing the no.of layers and no.of neurons in each layer\n",
        "n_layers=6\n",
        "weights_dct,bias_dct=init_weights(X_input_training,layer_dict,n_layers)\n",
        "alpha=0.9 #learning rate"
      ],
      "metadata": {
        "id": "pilgRJf_K7sq"
      },
      "execution_count": 58,
      "outputs": []
    },
    {
      "cell_type": "code",
      "source": [
        "#Training the model for learning rate(α)=0.9\n",
        "cost_vals_2=[]\n",
        "for i in range(501):\n",
        "\n",
        "  x=run_epoch(X_input_training,(n_layers+1),Y_training,weights_dct,bias_dct,alpha)\n",
        "  cost_vals_2.append(x)\n",
        "  if(i%10==0):\n",
        "    print(\"After\",i,\"epochs, cost function value :\",cost_vals_2[i])"
      ],
      "metadata": {
        "colab": {
          "base_uri": "https://localhost:8080/"
        },
        "outputId": "26634083-b86d-4ed8-dec3-d63d3ab1670b",
        "id": "U2_n8mxvLnyT"
      },
      "execution_count": 59,
      "outputs": [
        {
          "output_type": "stream",
          "name": "stdout",
          "text": [
            "After 0 epochs, cost function value : 0.693147181488624\n",
            "After 10 epochs, cost function value : 0.4345785544368279\n",
            "After 20 epochs, cost function value : 0.4275243732782598\n",
            "After 30 epochs, cost function value : 0.42706102588402267\n",
            "After 40 epochs, cost function value : 0.42702449091593836\n",
            "After 50 epochs, cost function value : 0.42702146855035844\n",
            "After 60 epochs, cost function value : 0.42702121511467384\n",
            "After 70 epochs, cost function value : 0.42702119378015646\n",
            "After 80 epochs, cost function value : 0.4270211919821364\n",
            "After 90 epochs, cost function value : 0.427021191830547\n",
            "After 100 epochs, cost function value : 0.4270211918177696\n",
            "After 110 epochs, cost function value : 0.42702119181672565\n",
            "After 120 epochs, cost function value : 0.42702119181663784\n",
            "After 130 epochs, cost function value : 0.4270211918166531\n",
            "After 140 epochs, cost function value : 0.4270211918166067\n",
            "After 150 epochs, cost function value : 0.42702119181663706\n",
            "After 160 epochs, cost function value : 0.42702119181662535\n",
            "After 170 epochs, cost function value : 0.427021191816628\n",
            "After 180 epochs, cost function value : 0.4270211918166072\n",
            "After 190 epochs, cost function value : 0.4270211918166021\n",
            "After 200 epochs, cost function value : 0.42702119181662923\n",
            "After 210 epochs, cost function value : 0.4270211918166252\n",
            "After 220 epochs, cost function value : 0.4270211918166038\n",
            "After 230 epochs, cost function value : 0.4270211918166163\n",
            "After 240 epochs, cost function value : 0.4270211918166376\n",
            "After 250 epochs, cost function value : 0.4270211918165998\n",
            "After 260 epochs, cost function value : 0.42702119181660014\n",
            "After 270 epochs, cost function value : 0.4270211918166087\n",
            "After 280 epochs, cost function value : 0.4270211918166087\n",
            "After 290 epochs, cost function value : 0.4270211918166087\n",
            "After 300 epochs, cost function value : 0.4270211918166087\n",
            "After 310 epochs, cost function value : 0.4270211918166087\n",
            "After 320 epochs, cost function value : 0.4270211918166087\n",
            "After 330 epochs, cost function value : 0.4270211918166087\n",
            "After 340 epochs, cost function value : 0.4270211918166087\n",
            "After 350 epochs, cost function value : 0.4270211918166087\n",
            "After 360 epochs, cost function value : 0.4270211918166087\n",
            "After 370 epochs, cost function value : 0.4270211918166087\n",
            "After 380 epochs, cost function value : 0.4270211918166087\n",
            "After 390 epochs, cost function value : 0.4270211918166087\n",
            "After 400 epochs, cost function value : 0.4270211918166087\n",
            "After 410 epochs, cost function value : 0.4270211918166087\n",
            "After 420 epochs, cost function value : 0.4270211918166087\n",
            "After 430 epochs, cost function value : 0.4270211918166087\n",
            "After 440 epochs, cost function value : 0.4270211918166087\n",
            "After 450 epochs, cost function value : 0.4270211918166087\n",
            "After 460 epochs, cost function value : 0.4270211918166087\n",
            "After 470 epochs, cost function value : 0.4270211918166087\n",
            "After 480 epochs, cost function value : 0.4270211918166087\n",
            "After 490 epochs, cost function value : 0.4270211918166087\n",
            "After 500 epochs, cost function value : 0.4270211918166087\n"
          ]
        }
      ]
    },
    {
      "cell_type": "code",
      "source": [
        "layer_dict={\"L1\":5,\"L2\":4,\"L3\":4,\"L4\":3,\"L5\":3,\"L6\":4} # Information(or dictionary) showing the no.of layers and no.of neurons in each layer\n",
        "n_layers=6\n",
        "weights_dct,bias_dct=init_weights(X_input_training,layer_dict,n_layers)\n",
        "alpha=20 #learning rate"
      ],
      "metadata": {
        "id": "Y4TmgwI_NbjB"
      },
      "execution_count": 64,
      "outputs": []
    },
    {
      "cell_type": "code",
      "source": [
        "#Training the model for a very high learning rate(α)=9\n",
        "cost_vals_3=[]\n",
        "for i in range(501):\n",
        "\n",
        "  x=run_epoch(X_input_training,(n_layers+1),Y_training,weights_dct,bias_dct,alpha)\n",
        "  cost_vals_3.append(x)\n",
        "  if(i%10==0):\n",
        "    print(\"After\",i,\"epochs, cost function value :\",cost_vals_3[i])"
      ],
      "metadata": {
        "colab": {
          "base_uri": "https://localhost:8080/"
        },
        "outputId": "fdd62a57-7177-484b-8a0c-4f51c1050a20",
        "id": "C2A8aoFfNi0_"
      },
      "execution_count": 65,
      "outputs": [
        {
          "output_type": "stream",
          "name": "stdout",
          "text": [
            "After 0 epochs, cost function value : 0.6931471812626436\n",
            "After 10 epochs, cost function value : 0.5712808076246578\n",
            "After 20 epochs, cost function value : 0.5204365401518047\n",
            "After 30 epochs, cost function value : 0.5733002883745927\n",
            "After 40 epochs, cost function value : 0.5189219845650764\n",
            "After 50 epochs, cost function value : 0.5739277667589446\n",
            "After 60 epochs, cost function value : 0.5184870034035771\n",
            "After 70 epochs, cost function value : 0.5740958905817695\n",
            "After 80 epochs, cost function value : 0.5183733021167819\n",
            "After 90 epochs, cost function value : 0.5741389756438512\n",
            "After 100 epochs, cost function value : 0.5183443568928334\n",
            "After 110 epochs, cost function value : 0.5741498874212638\n",
            "After 120 epochs, cost function value : 0.5183370386727539\n",
            "After 130 epochs, cost function value : 0.5741526426230277\n",
            "After 140 epochs, cost function value : 0.518335191634653\n",
            "After 150 epochs, cost function value : 0.5741533377746549\n",
            "After 160 epochs, cost function value : 0.518334725668145\n",
            "After 170 epochs, cost function value : 0.5741535131312134\n",
            "After 180 epochs, cost function value : 0.5183346081283533\n",
            "After 190 epochs, cost function value : 0.5741535573638852\n",
            "After 200 epochs, cost function value : 0.518334578479778\n",
            "After 210 epochs, cost function value : 0.5741535685211219\n",
            "After 220 epochs, cost function value : 0.5183345710011992\n",
            "After 230 epochs, cost function value : 0.5741535713354664\n",
            "After 240 epochs, cost function value : 0.5183345691148293\n",
            "After 250 epochs, cost function value : 0.57415357204536\n",
            "After 260 epochs, cost function value : 0.5183345686389954\n",
            "After 270 epochs, cost function value : 0.5741535722244115\n",
            "After 280 epochs, cost function value : 0.5183345685190114\n",
            "After 290 epochs, cost function value : 0.5741535722695709\n",
            "After 300 epochs, cost function value : 0.5183345684887014\n",
            "After 310 epochs, cost function value : 0.5741535722810045\n",
            "After 320 epochs, cost function value : 0.5183345684810723\n",
            "After 330 epochs, cost function value : 0.5741535722838718\n",
            "After 340 epochs, cost function value : 0.5183345684791397\n",
            "After 350 epochs, cost function value : 0.5741535722845525\n",
            "After 360 epochs, cost function value : 0.5183345684786379\n",
            "After 370 epochs, cost function value : 0.5741535722847567\n",
            "After 380 epochs, cost function value : 0.5183345684785272\n",
            "After 390 epochs, cost function value : 0.5741535722848162\n",
            "After 400 epochs, cost function value : 0.5183345684784861\n",
            "After 410 epochs, cost function value : 0.5741535722848253\n",
            "After 420 epochs, cost function value : 0.5183345684784768\n",
            "After 430 epochs, cost function value : 0.5741535722848259\n",
            "After 440 epochs, cost function value : 0.5183345684784764\n",
            "After 450 epochs, cost function value : 0.5741535722848259\n",
            "After 460 epochs, cost function value : 0.5183345684784764\n",
            "After 470 epochs, cost function value : 0.5741535722848259\n",
            "After 480 epochs, cost function value : 0.5183345684784764\n",
            "After 490 epochs, cost function value : 0.5741535722848259\n",
            "After 500 epochs, cost function value : 0.5183345684784764\n"
          ]
        }
      ]
    },
    {
      "cell_type": "code",
      "source": [
        "#Learning_rate=0.01 , No.of iterations=500\n",
        "x1=len(cost_vals_1)\n",
        "idx_lst_1=[]\n",
        "for i in range(x1):\n",
        "  idx_lst_1.append(i+1)\n",
        "plt.plot(idx_lst_1,cost_vals_1,color='r',label='α = 0.01')\n",
        "plt.plot(idx_lst,cost_vals,color='b',label='α = 0.1')\n",
        "plt.plot(idx_lst,cost_vals_2,color='g',label='α = 0.9(high)')\n",
        "#plt.plot(idx_lst,cost_vals_3,color='y',label='α = 20(very high)')\n",
        "\n",
        "plt.xlabel(\"No.of Iterations\")\n",
        "plt.ylabel(\"Loss value\")\n",
        "plt.legend()\n",
        "plt.show()"
      ],
      "metadata": {
        "colab": {
          "base_uri": "https://localhost:8080/",
          "height": 449
        },
        "outputId": "8d19ec7e-7433-4f3e-d3b9-77d965b4c169",
        "id": "5ofeu8sqtwHK"
      },
      "execution_count": 72,
      "outputs": [
        {
          "output_type": "display_data",
          "data": {
            "text/plain": [
              "<Figure size 640x480 with 1 Axes>"
            ],
            "image/png": "[encoded data removed]"
          },
          "metadata": {}
        }
      ]
    },
    {
      "cell_type": "code",
      "source": [
        "#Plot for a very high learning rate\n",
        "plt.plot(idx_lst,cost_vals_3,color='y',label='α = 20(very high)')\n",
        "plt.xlabel(\"No.of Iterations\")\n",
        "plt.ylabel(\"Loss value\")\n",
        "plt.legend()\n",
        "plt.show()"
      ],
      "metadata": {
        "colab": {
          "base_uri": "https://localhost:8080/",
          "height": 449
        },
        "id": "40B968F_wJZ8",
        "outputId": "2c80f999-ab8f-4857-c36a-c430f29eecde"
      },
      "execution_count": 73,
      "outputs": [
        {
          "output_type": "display_data",
          "data": {
            "text/plain": [
              "<Figure size 640x480 with 1 Axes>"
            ],
            "image/png": "[encoded data removed]"
          },
          "metadata": {}
        }
      ]
    },
    {
      "cell_type": "code",
      "source": [],
      "metadata": {
        "id": "Hdhpn4OqP996"
      },
      "execution_count": null,
      "outputs": []
    }
  ]
}